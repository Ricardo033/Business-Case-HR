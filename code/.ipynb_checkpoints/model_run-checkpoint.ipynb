{
 "cells": [
  {
   "cell_type": "code",
   "execution_count": 1,
   "id": "f5dcef3b-4720-485a-a8bd-3c3fb814ff9a",
   "metadata": {},
   "outputs": [],
   "source": [
    "import os\n",
    "import pandas as pd\n",
    "import warnings\n",
    "\n",
    "from Preprocess.preprocessing_contracts import contract_basis_preprocessing as cbpp\n",
    "from Preprocess.preprocessing_work_plan import work_plan_preprocessing as wpp\n",
    "from Preprocess.preprocessing_postcodes import postcodes_preprocessing as pp\n",
    "from Preprocess.preprocessing_absences import absenses_preprocessing as app\n",
    "from Preprocess.preprocessing_salary import salary_preprocessing as sp\n",
    "from Process.process_functions import process_funtions as pf\n",
    "\n",
    "# Ignoring messages from pf.categories_by_person(absences) function\n",
    "warnings.filterwarnings(\"ignore\")"
   ]
  },
  {
   "cell_type": "code",
   "execution_count": 2,
   "id": "4d4ee1d9-0d71-47ce-8d37-6c759e917b5e",
   "metadata": {},
   "outputs": [],
   "source": [
    "# Setting Working Directory Raw\n",
    "os.chdir('C:/Users/ricar/OneDrive/Escritorio/Agilos_case/data/raw/HR_CASE_DATA_CSV_2')"
   ]
  },
  {
   "cell_type": "markdown",
   "id": "0ae8388a-2bad-428d-b067-37e6491be66b",
   "metadata": {},
   "source": [
    "## **Project Introduction**"
   ]
  },
  {
   "cell_type": "markdown",
   "id": "62e0e91f-497f-4585-958a-a29b065e8899",
   "metadata": {},
   "source": [
    "The following process considered all the restrictions indicated in the instructions and aims to produce datasets that can summarize the Human Resources information that was provided."
   ]
  },
  {
   "cell_type": "code",
   "execution_count": 3,
   "id": "34da1be4-e7fd-425f-8328-d7698a9e34e3",
   "metadata": {},
   "outputs": [],
   "source": [
    "# Loading Raw Data\n",
    "contract_raw = pd.read_csv(\"CONTRACT_BASIS.csv\", sep=\";\")\n",
    "absences_raw = pd.read_csv(\"ABSENCES.csv\", sep=\";\")\n",
    "postcodes_raw = pd.read_csv(\"POSTCODES.csv\", sep=\";\")\n",
    "salary_raw = pd.read_csv(\"SALARY_STATEMENT.csv\", sep=\";\")\n",
    "work_plan_raw = pd.read_csv(\"WORK_PLAN.csv\", sep=\";\")"
   ]
  },
  {
   "cell_type": "code",
   "execution_count": 4,
   "id": "91197ef6-4e4f-4b03-9da8-7d11b1b07d2a",
   "metadata": {},
   "outputs": [],
   "source": [
    "# Additional Data to include coordinates and cities\n",
    "locations_raw = pd.read_csv(\"MAP.csv\", sep=\",\")"
   ]
  },
  {
   "cell_type": "markdown",
   "id": "689ef6a2-9a5b-4d80-afe0-149fbd8312fd",
   "metadata": {},
   "source": [
    "**Preprocessing**"
   ]
  },
  {
   "cell_type": "markdown",
   "id": "4c647962-69fb-4d2d-9691-8ee01d483d28",
   "metadata": {},
   "source": [
    "In this step, different methods are applied to the datasets to create or remove columns, transform data types, delete duplicates, replace NAN values, or solve any possible issue that the data might present."
   ]
  },
  {
   "cell_type": "code",
   "execution_count": 5,
   "id": "b2541431-79fd-49b5-935e-56d2bc6053fc",
   "metadata": {},
   "outputs": [],
   "source": [
    "# Required for postcodes\n",
    "locations = pp.location_types(locations_data = locations_raw) "
   ]
  },
  {
   "cell_type": "code",
   "execution_count": 6,
   "id": "7c8d8d1b-05bf-432e-90de-10e9041538bf",
   "metadata": {},
   "outputs": [
    {
     "name": "stdout",
     "output_type": "stream",
     "text": [
      "29172 duplicates were deleted\n"
     ]
    }
   ],
   "source": [
    "contracts = cbpp.time_filter(cbpp.additional_colunmns(cbpp.data_types(contract_data = contract_raw)))\n",
    "absences = app.additional_colunmns(app.data_types(absences_data = absences_raw))\n",
    "postcodes = pp.coordinates_cities(pp.data_types(postcodes_data = postcodes_raw),locations_data = locations)\n",
    "salary = sp.time_filter(sp.fdcp_duplicates_cleaning(sp.data_types(salary_data=salary_raw)))\n",
    "work_plan = wpp.fdcp_duplicates_cleaning(work_plan_data= work_plan_raw)"
   ]
  },
  {
   "cell_type": "markdown",
   "id": "007963c2-07d4-4997-9b33-5533162cc086",
   "metadata": {},
   "source": [
    "**Unified Contracts**"
   ]
  },
  {
   "cell_type": "markdown",
   "id": "283e45ef-4e08-4dcd-bd2f-e35cd1d58383",
   "metadata": {},
   "source": [
    "The unifide contract data \"contract_categories_loc\"  is the main dataset we are going to use to obtain most of the results. This includes the contracts, combined with locations and all types of absences a person (by FCDP) presented. "
   ]
  },
  {
   "cell_type": "markdown",
   "id": "2ede5bf8-ecde-41e4-a2f0-97261e6eac83",
   "metadata": {},
   "source": [
    "###### Categories Table & Contracts with Absences Categories and Locations"
   ]
  },
  {
   "cell_type": "code",
   "execution_count": 7,
   "id": "faee0e13-c2ba-4b50-b945-5bebf4a4cb0b",
   "metadata": {},
   "outputs": [
    {
     "name": "stdout",
     "output_type": "stream",
     "text": [
      "categories: (6346, 11), unified contract: (22533, 37)\n"
     ]
    }
   ],
   "source": [
    "categories = pf.categories_by_person(absences)\n",
    "contract_categories_loc = pf.regions_categories(contract_data=contracts,postcodes_data=postcodes,categories_data=categories)\n",
    "\n",
    "print(f'categories: {categories.shape}, unified contract: {contract_categories_loc.shape}') "
   ]
  },
  {
   "cell_type": "markdown",
   "id": "cb9ae2c8-cade-4a4b-8031-f62ad879805c",
   "metadata": {},
   "source": [
    "## \"Solution to Questions\""
   ]
  },
  {
   "cell_type": "markdown",
   "id": "6961b89c-dd60-4016-9f25-c7be68081b1c",
   "metadata": {},
   "source": [
    "**1.Head Counts**"
   ]
  },
  {
   "cell_type": "markdown",
   "id": "1b7af926-f857-442b-a3ed-70d291c38a69",
   "metadata": {},
   "source": [
    "The steps below will create two different datasets related to individual counts of contracts per month. \"contracts_evolution\" show the number of contracts per month that happened in the last two years by Region and City. On the other hand \"contracts_category\" counts the number of contracts according to different categories (absences types, age, seniority, gender, and Region)"
   ]
  },
  {
   "cell_type": "code",
   "execution_count": 8,
   "id": "77295be5-7890-42bd-8206-3312c6b0dc1c",
   "metadata": {},
   "outputs": [],
   "source": [
    "head_count = pf.head_counts(unified_contract_data=contract_categories_loc)"
   ]
  },
  {
   "cell_type": "markdown",
   "id": "657ba05e-e4e0-440c-a850-359c023ed5c9",
   "metadata": {},
   "source": [
    "Evolution of contracts Per Region and Month"
   ]
  },
  {
   "cell_type": "code",
   "execution_count": 9,
   "id": "e40f3b57-c6e0-420e-a1eb-13d066181610",
   "metadata": {},
   "outputs": [],
   "source": [
    "contracts_evolution = head_count[0]\n",
    "contracts_category = head_count[1]"
   ]
  },
  {
   "cell_type": "markdown",
   "id": "263fd0b2-5efd-4d21-b472-646c1717a0aa",
   "metadata": {},
   "source": [
    "Evolution of contracts Per Category (Absence Type, Gender, etc.)"
   ]
  },
  {
   "cell_type": "markdown",
   "id": "fbd8d701-2fd7-4255-bf0d-89ca5e1f5beb",
   "metadata": {},
   "source": [
    "**2.Human Resources Flow (IN & OUT Variation)**"
   ]
  },
  {
   "cell_type": "code",
   "execution_count": 10,
   "id": "f788fc23-3c38-40c7-848a-48e81e9453be",
   "metadata": {},
   "outputs": [],
   "source": [
    "variation = pf.variation(unified_contract_data=contract_categories_loc)"
   ]
  },
  {
   "cell_type": "code",
   "execution_count": 11,
   "id": "308993f0-e6f1-4c40-8f1e-f897a8d7f51a",
   "metadata": {},
   "outputs": [],
   "source": [
    "variation_in =variation[0]\n",
    "variation_out =variation[1]"
   ]
  },
  {
   "cell_type": "markdown",
   "id": "932b9952-00f7-4780-911a-f921aba71bd6",
   "metadata": {},
   "source": [
    "##### 3.Salary"
   ]
  },
  {
   "cell_type": "markdown",
   "id": "84a8daff-5ee5-46fe-a01c-5eae73aad82e",
   "metadata": {},
   "source": [
    "As not all people in the salary database were registered in the contract dataset, we produced two different datasets to study the cases apart."
   ]
  },
  {
   "cell_type": "code",
   "execution_count": 12,
   "id": "a7e4e4ae-219c-4ac7-b760-57d8e65cd94e",
   "metadata": {},
   "outputs": [],
   "source": [
    "salary_cost=pf.salary_analysis(salary_data=salary, unified_contract_data = contract_categories_loc)"
   ]
  },
  {
   "cell_type": "code",
   "execution_count": 13,
   "id": "1d5aaa70-6b31-4bf3-8714-0916c3ff3d3b",
   "metadata": {},
   "outputs": [
    {
     "data": {
      "text/plain": [
       "(31184, 20)"
      ]
     },
     "execution_count": 13,
     "metadata": {},
     "output_type": "execute_result"
    }
   ],
   "source": [
    "salary_cost_in = salary_cost[0]\n",
    "salary_cost_in.shape"
   ]
  },
  {
   "cell_type": "code",
   "execution_count": 14,
   "id": "b52a1a90-952a-4fff-9564-9951960f154f",
   "metadata": {},
   "outputs": [
    {
     "data": {
      "text/plain": [
       "(76305, 3)"
      ]
     },
     "execution_count": 14,
     "metadata": {},
     "output_type": "execute_result"
    }
   ],
   "source": [
    "salary_cost_out = salary_cost[1]\n",
    "salary_cost_out.shape"
   ]
  },
  {
   "cell_type": "markdown",
   "id": "943b29a3-9020-4163-9b22-9bd85600f5dd",
   "metadata": {},
   "source": [
    "**4.Absences**"
   ]
  },
  {
   "cell_type": "markdown",
   "id": "9b46e13c-f497-43a8-9c1a-4473c9abb217",
   "metadata": {},
   "source": [
    "In the case of absences, it was also more convenient to study this data by days and frequency separately. "
   ]
  },
  {
   "cell_type": "code",
   "execution_count": 15,
   "id": "af0c75a6-b0ef-4bd3-b060-2c8e51abc4f7",
   "metadata": {},
   "outputs": [],
   "source": [
    "absences= pf.absence_analysis(unified_contract_data=contract_categories_loc,work_plan_data=work_plan,absences_data=absences)"
   ]
  },
  {
   "cell_type": "code",
   "execution_count": 16,
   "id": "dbd899cd-0809-4d13-b0d5-9f4d87a84794",
   "metadata": {},
   "outputs": [],
   "source": [
    "absences_days =absences[0]\n",
    "absences_freq = absences[1]"
   ]
  },
  {
   "cell_type": "markdown",
   "id": "dac9bda7-37f3-408c-b978-9af69aacbfc1",
   "metadata": {},
   "source": [
    "**Exporting Output**"
   ]
  },
  {
   "cell_type": "markdown",
   "id": "de8c1131-a676-4f13-b7f8-27800760aa93",
   "metadata": {},
   "source": [
    "These results are to be used in Power BI to create interactive dashboards that will give a better idea about the datasets."
   ]
  },
  {
   "cell_type": "code",
   "execution_count": 18,
   "id": "f8ddafa7-08c6-46e2-a6d2-08dae51af8f3",
   "metadata": {},
   "outputs": [],
   "source": [
    "# Setting Working Directory for output location\n",
    "os.chdir('C:/Users/ricar/OneDrive/Escritorio/Agilos_Case/data\\output')"
   ]
  },
  {
   "cell_type": "code",
   "execution_count": 19,
   "id": "d59b9f76-5684-48fd-b645-c6ca11ce72a3",
   "metadata": {},
   "outputs": [],
   "source": [
    "contracts_category.to_csv('contracts_category.csv', index = False)\n",
    "contracts_evolution.to_csv('contracts_evolution.csv', index = False)\n",
    "variation_in.to_csv('variation_in.csv',index =False)\n",
    "variation_out.to_csv('variation_out.csv',index =False)\n",
    "salary_cost_in.to_csv('salary_cost_in.csv',index =False)\n",
    "salary_cost_out.to_csv('salary_cost_out.csv',index =False)\n",
    "absences_days.to_csv('absences_days.csv',index =False)\n",
    "absences_freq.to_csv('absences_freq.csv',index =False)"
   ]
  }
 ],
 "metadata": {
  "kernelspec": {
   "display_name": "Python 3 (ipykernel)",
   "language": "python",
   "name": "python3"
  },
  "language_info": {
   "codemirror_mode": {
    "name": "ipython",
    "version": 3
   },
   "file_extension": ".py",
   "mimetype": "text/x-python",
   "name": "python",
   "nbconvert_exporter": "python",
   "pygments_lexer": "ipython3",
   "version": "3.10.5"
  }
 },
 "nbformat": 4,
 "nbformat_minor": 5
}
