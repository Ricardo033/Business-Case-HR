{
 "cells": [
  {
   "cell_type": "code",
   "execution_count": 1,
   "id": "747287f5-c2d3-41fd-8473-f623b3f621e0",
   "metadata": {},
   "outputs": [],
   "source": [
    "import os\n",
    "import pandas as pd\n",
    "import numpy as np\n",
    "import matplotlib.pyplot as plt"
   ]
  },
  {
   "cell_type": "code",
   "execution_count": 2,
   "id": "a46fba6f-6aab-4842-8c85-07ae4c697c99",
   "metadata": {},
   "outputs": [],
   "source": [
    "# Setting Working Directory Raw\n",
    "os.chdir('C:/Users/ricar/OneDrive/Escritorio/Agilos_case/data/raw_data/HR_CASE_DATA_CSV_2')"
   ]
  },
  {
   "cell_type": "markdown",
   "id": "0f20fb3c-0b01-463b-aedc-efaa08c1ff73",
   "metadata": {},
   "source": [
    "## **EPLORATORY DATA ANALYSIS (EDA)**"
   ]
  },
  {
   "cell_type": "markdown",
   "id": "da46016a-e181-4c7e-b52e-322960d18ecc",
   "metadata": {},
   "source": [
    "Overall Analysis of datasets to identify required preprocessing."
   ]
  },
  {
   "cell_type": "code",
   "execution_count": 5,
   "id": "8f8b209b-fc42-4241-b9aa-56ab3aa7c255",
   "metadata": {},
   "outputs": [],
   "source": [
    "# Loading The Datasets\n",
    "absence_type = pd.read_csv('Absence_Type.csv',sep=\";\")  \n",
    "absences = pd.read_csv(\"ABSENCES.csv\", sep=\";\")\n",
    "contract_basis = pd.read_csv(\"CONTRACT_BASIS.csv\", sep=\";\")\n",
    "postcodes = pd.read_csv(\"POSTCODES.csv\", sep=\";\")\n",
    "salary_statement = pd.read_csv(\"SALARY_STATEMENT.csv\", sep=\";\")\n",
    "work_plan = pd.read_csv(\"WORK_PLAN.csv\", sep=\";\")"
   ]
  },
  {
   "cell_type": "markdown",
   "id": "cc9be53e-c24b-4d4e-afe2-469ed43e3f8d",
   "metadata": {},
   "source": [
    "**Data types and non-nulls**\n"
   ]
  },
  {
   "cell_type": "code",
   "execution_count": 6,
   "id": "0f413ceb-7e30-4841-9cfc-e9dbdff99a04",
   "metadata": {},
   "outputs": [
    {
     "name": "stdout",
     "output_type": "stream",
     "text": [
      "<class 'pandas.core.frame.DataFrame'>\n",
      "RangeIndex: 100815 entries, 0 to 100814\n",
      "Data columns (total 32 columns):\n",
      " #   Column            Non-Null Count   Dtype \n",
      "---  ------            --------------   ----- \n",
      " 0   Firm ID           100815 non-null  int64 \n",
      " 1   Department ID     100815 non-null  int64 \n",
      " 2   Category ID       100815 non-null  int64 \n",
      " 3   Person ID         100815 non-null  int64 \n",
      " 4   Year              100815 non-null  int64 \n",
      " 5   Quarter           100815 non-null  int64 \n",
      " 6   Month             100815 non-null  int64 \n",
      " 7   Date              100815 non-null  object\n",
      " 8   Period            100815 non-null  object\n",
      " 9   Qty_Illness_Days  100815 non-null  int64 \n",
      " 10  Qty_Z0_Days       100815 non-null  int64 \n",
      " 11  Qty_Z1_Days       100815 non-null  int64 \n",
      " 12  Qty_Z2_Days       100815 non-null  int64 \n",
      " 13  Qty_Z3_Days       100815 non-null  int64 \n",
      " 14  Qty_P0_Days       100815 non-null  int64 \n",
      " 15  Qty_P1_Days       100815 non-null  int64 \n",
      " 16  Qty_P2_Days       100815 non-null  int64 \n",
      " 17  Qty_P3_Days       100815 non-null  int64 \n",
      " 18  Qty_A1_Days       100815 non-null  int64 \n",
      " 19  Qty_A2_Days       100815 non-null  int64 \n",
      " 20  Freq_Z0_Days      100815 non-null  int64 \n",
      " 21  Freq_Z1_Days      100815 non-null  int64 \n",
      " 22  Freq_Z2_Days      100815 non-null  int64 \n",
      " 23  Freq_Z3_Daqs      100815 non-null  int64 \n",
      " 24  Freq_P0_Days      100815 non-null  int64 \n",
      " 25  Freq_P1_Days      100815 non-null  int64 \n",
      " 26  Freq_P2_Days      100815 non-null  int64 \n",
      " 27  Freq_P3_Days      100815 non-null  int64 \n",
      " 28  Freq_A1_Days      100815 non-null  int64 \n",
      " 29  Freq_A2_Days      100815 non-null  int64 \n",
      " 30  Qty_Days_Worked   100815 non-null  object\n",
      " 31  Qty_Working_Days  100815 non-null  object\n",
      "dtypes: int64(28), object(4)\n",
      "memory usage: 24.6+ MB\n",
      "<class 'pandas.core.frame.DataFrame'>\n",
      "RangeIndex: 29452 entries, 0 to 29451\n",
      "Data columns (total 13 columns):\n",
      " #   Column                      Non-Null Count  Dtype \n",
      "---  ------                      --------------  ----- \n",
      " 0   Contract ZIP Code           29452 non-null  object\n",
      " 1   Firm ID                     29452 non-null  int64 \n",
      " 2   Department ID               29452 non-null  int64 \n",
      " 3   Category ID                 29452 non-null  int64 \n",
      " 4   Person ID                   29452 non-null  int64 \n",
      " 5   Contract Start Date         29452 non-null  object\n",
      " 6   Contract End Date           26117 non-null  object\n",
      " 7   Company Start Date          29452 non-null  object\n",
      " 8   Birth Date                  29451 non-null  object\n",
      " 9   Contract Terminatio Reason  26122 non-null  object\n",
      " 10  Gender                      29452 non-null  object\n",
      " 11  Nationality                 29451 non-null  object\n",
      " 12  Contract Type               29452 non-null  object\n",
      "dtypes: int64(4), object(9)\n",
      "memory usage: 2.9+ MB\n",
      "<class 'pandas.core.frame.DataFrame'>\n",
      "RangeIndex: 1146 entries, 0 to 1145\n",
      "Data columns (total 3 columns):\n",
      " #   Column       Non-Null Count  Dtype \n",
      "---  ------       --------------  ----- \n",
      " 0   PostCode     1146 non-null   int64 \n",
      " 1   Region_Code  1146 non-null   int64 \n",
      " 2   Region       1146 non-null   object\n",
      "dtypes: int64(2), object(1)\n",
      "memory usage: 27.0+ KB\n",
      "<class 'pandas.core.frame.DataFrame'>\n",
      "RangeIndex: 267166 entries, 0 to 267165\n",
      "Data columns (total 5 columns):\n",
      " #   Column            Non-Null Count   Dtype \n",
      "---  ------            --------------   ----- \n",
      " 0   FDCP              267166 non-null  object\n",
      " 1   Gross Salary      267166 non-null  object\n",
      " 2   Net Salary        267166 non-null  object\n",
      " 3   Gross Salary 108  267166 non-null  object\n",
      " 4   Period            267166 non-null  object\n",
      "dtypes: object(5)\n",
      "memory usage: 10.2+ MB\n",
      "<class 'pandas.core.frame.DataFrame'>\n",
      "RangeIndex: 52854 entries, 0 to 52853\n",
      "Data columns (total 6 columns):\n",
      " #   Column                 Non-Null Count  Dtype \n",
      "---  ------                 --------------  ----- \n",
      " 0   FDCP                   52854 non-null  object\n",
      " 1   Valid From             52854 non-null  object\n",
      " 2   Valid To               52854 non-null  object\n",
      " 3   Working Days per Week  52854 non-null  object\n",
      " 4   NACE Code              52854 non-null  object\n",
      " 5   NACE Description       39610 non-null  object\n",
      "dtypes: object(6)\n",
      "memory usage: 2.4+ MB\n",
      "None None None None None\n"
     ]
    }
   ],
   "source": [
    "print(f\"{absences.info()} {contract_basis.info()} {postcodes.info()} {salary_statement.info()} {work_plan.info()}\")\n",
    "\n",
    "# contract_basis: Shows null values \n",
    "# salary_statement: Salaries are treated as objects not floats "
   ]
  },
  {
   "cell_type": "markdown",
   "id": "9a7f44fc-ce71-422b-ad57-87904b8bf61a",
   "metadata": {},
   "source": [
    "Some null Values were identified as shown below."
   ]
  },
  {
   "cell_type": "markdown",
   "id": "0eafa230-f68f-43a9-aad4-f1dec04b0447",
   "metadata": {},
   "source": [
    "**Null Values**"
   ]
  },
  {
   "cell_type": "code",
   "execution_count": 7,
   "id": "eaddfc40-f92f-4122-889a-2bc627810be2",
   "metadata": {},
   "outputs": [
    {
     "name": "stdout",
     "output_type": "stream",
     "text": [
      "Contract ZIP Code                0\n",
      "Firm ID                          0\n",
      "Department ID                    0\n",
      "Category ID                      0\n",
      "Person ID                        0\n",
      "Contract Start Date              0\n",
      "Contract End Date             3335\n",
      "Company Start Date               0\n",
      "Birth Date                       1\n",
      "Contract Terminatio Reason    3330\n",
      "Gender                           0\n",
      "Nationality                      1\n",
      "Contract Type                    0\n",
      "dtype: int64,\n",
      " ------- \n",
      "FDCP                         0\n",
      "Valid From                   0\n",
      "Valid To                     0\n",
      "Working Days per Week        0\n",
      "NACE Code                    0\n",
      "NACE Description         13244\n",
      "dtype: int64\n"
     ]
    }
   ],
   "source": [
    "print(f\"{contract_basis.isnull().sum()},\\n ------- \\n{work_plan.isnull().sum()}\")"
   ]
  },
  {
   "cell_type": "markdown",
   "id": "309c9c02-2efb-498c-b403-a5f45a7ff4f3",
   "metadata": {},
   "source": [
    "**Duplicates**"
   ]
  },
  {
   "cell_type": "code",
   "execution_count": 10,
   "id": "ea14c96e-6ad2-4473-8519-83afc7346357",
   "metadata": {},
   "outputs": [
    {
     "name": "stdout",
     "output_type": "stream",
     "text": [
      "0\n",
      "0\n",
      "0\n",
      "29172\n",
      "0\n"
     ]
    }
   ],
   "source": [
    "#duplicates \n",
    "print(absences.duplicated().sum())\n",
    "print(contract_basis.duplicated().sum())\n",
    "print(postcodes.duplicated().sum())\n",
    "print(salary_statement.duplicated().sum()) # Shows repeted values to inspect\n",
    "print(work_plan.duplicated().sum())"
   ]
  },
  {
   "cell_type": "code",
   "execution_count": 12,
   "id": "521fbc1a-0e10-4c27-9893-7ef4736a1df8",
   "metadata": {},
   "outputs": [
    {
     "data": {
      "text/html": [
       "<div>\n",
       "<style scoped>\n",
       "    .dataframe tbody tr th:only-of-type {\n",
       "        vertical-align: middle;\n",
       "    }\n",
       "\n",
       "    .dataframe tbody tr th {\n",
       "        vertical-align: top;\n",
       "    }\n",
       "\n",
       "    .dataframe thead th {\n",
       "        text-align: right;\n",
       "    }\n",
       "</style>\n",
       "<table border=\"1\" class=\"dataframe\">\n",
       "  <thead>\n",
       "    <tr style=\"text-align: right;\">\n",
       "      <th></th>\n",
       "      <th>FDCP</th>\n",
       "      <th>Gross Salary</th>\n",
       "      <th>Net Salary</th>\n",
       "      <th>Gross Salary 108</th>\n",
       "      <th>Period</th>\n",
       "    </tr>\n",
       "  </thead>\n",
       "  <tbody>\n",
       "    <tr>\n",
       "      <th>1236</th>\n",
       "      <td>0000012195|00|1|0000000052</td>\n",
       "      <td>0</td>\n",
       "      <td>0</td>\n",
       "      <td>0</td>\n",
       "      <td>31/01/2016</td>\n",
       "    </tr>\n",
       "    <tr>\n",
       "      <th>1427</th>\n",
       "      <td>0000012195|00|1|0000000008</td>\n",
       "      <td>0</td>\n",
       "      <td>0</td>\n",
       "      <td>0</td>\n",
       "      <td>31/01/2017</td>\n",
       "    </tr>\n",
       "    <tr>\n",
       "      <th>1428</th>\n",
       "      <td>0000012195|00|1|0000000039</td>\n",
       "      <td>0</td>\n",
       "      <td>0</td>\n",
       "      <td>0</td>\n",
       "      <td>31/01/2017</td>\n",
       "    </tr>\n",
       "    <tr>\n",
       "      <th>1429</th>\n",
       "      <td>0000012195|00|1|0000000028</td>\n",
       "      <td>0</td>\n",
       "      <td>0</td>\n",
       "      <td>0</td>\n",
       "      <td>31/01/2017</td>\n",
       "    </tr>\n",
       "    <tr>\n",
       "      <th>1430</th>\n",
       "      <td>0000012195|00|1|0000000002</td>\n",
       "      <td>0</td>\n",
       "      <td>0</td>\n",
       "      <td>0</td>\n",
       "      <td>31/01/2017</td>\n",
       "    </tr>\n",
       "  </tbody>\n",
       "</table>\n",
       "</div>"
      ],
      "text/plain": [
       "                            FDCP Gross Salary Net Salary Gross Salary 108  \\\n",
       "1236  0000012195|00|1|0000000052            0          0                0   \n",
       "1427  0000012195|00|1|0000000008            0          0                0   \n",
       "1428  0000012195|00|1|0000000039            0          0                0   \n",
       "1429  0000012195|00|1|0000000028            0          0                0   \n",
       "1430  0000012195|00|1|0000000002            0          0                0   \n",
       "\n",
       "          Period  \n",
       "1236  31/01/2016  \n",
       "1427  31/01/2017  \n",
       "1428  31/01/2017  \n",
       "1429  31/01/2017  \n",
       "1430  31/01/2017  "
      ]
     },
     "execution_count": 12,
     "metadata": {},
     "output_type": "execute_result"
    }
   ],
   "source": [
    "salary_statement[(salary_statement.duplicated()==True)].head()"
   ]
  },
  {
   "cell_type": "markdown",
   "id": "ddf0a010-be12-4377-8889-81b77cb1a229",
   "metadata": {},
   "source": [
    "After cheking whether Date and Period in \"Absences\" are duplicated columns, we see that all rows are identical for both columns. Then, one column can be removed. "
   ]
  },
  {
   "cell_type": "markdown",
   "id": "20a51f86-7112-436a-a3f2-50d2d8951b20",
   "metadata": {},
   "source": [
    "**Summary**"
   ]
  },
  {
   "cell_type": "code",
   "execution_count": 14,
   "id": "a6fee3c3-90e5-443d-9358-f2af69b0d435",
   "metadata": {},
   "outputs": [
    {
     "name": "stdout",
     "output_type": "stream",
     "text": [
      "       Qty_Illness_Days    Qty_Z0_Days    Qty_Z1_Days    Qty_Z2_Days  \\\n",
      "count     100815.000000  100815.000000  100815.000000  100815.000000   \n",
      "mean           2.317026       0.488528       0.496513       0.562000   \n",
      "std            6.043776       1.941347       1.966511       3.208282   \n",
      "min            0.000000       0.000000       0.000000       0.000000   \n",
      "25%            0.000000       0.000000       0.000000       0.000000   \n",
      "50%            0.000000       0.000000       0.000000       0.000000   \n",
      "75%            0.000000       0.000000       0.000000       0.000000   \n",
      "max           30.000000      26.000000      26.000000      30.000000   \n",
      "\n",
      "         Qty_Z3_Days    Qty_P0_Days    Qty_P1_Days    Qty_P2_Days  \\\n",
      "count  100815.000000  100815.000000  100815.000000  100815.000000   \n",
      "mean        1.258513       0.001766       0.001766       0.001418   \n",
      "std         4.952039       0.129615       0.129615       0.150478   \n",
      "min         0.000000       0.000000       0.000000       0.000000   \n",
      "25%         0.000000       0.000000       0.000000       0.000000   \n",
      "50%         0.000000       0.000000       0.000000       0.000000   \n",
      "75%         0.000000       0.000000       0.000000       0.000000   \n",
      "max        30.000000      15.000000      15.000000      22.000000   \n",
      "\n",
      "       Qty_P3_Days    Qty_A1_Days  ...   Freq_Z0_Days   Freq_Z1_Days  \\\n",
      "count     100815.0  100815.000000  ...  100815.000000  100815.000000   \n",
      "mean           0.0       0.028151  ...       0.093696       0.094520   \n",
      "std            0.0       0.556578  ...       0.299697       0.300909   \n",
      "min            0.0       0.000000  ...       0.000000       0.000000   \n",
      "25%            0.0       0.000000  ...       0.000000       0.000000   \n",
      "50%            0.0       0.000000  ...       0.000000       0.000000   \n",
      "75%            0.0       0.000000  ...       0.000000       0.000000   \n",
      "max            0.0      22.000000  ...       4.000000       4.000000   \n",
      "\n",
      "        Freq_Z2_Days   Freq_Z3_Daqs   Freq_P0_Days   Freq_P1_Days  \\\n",
      "count  100815.000000  100815.000000  100815.000000  100815.000000   \n",
      "mean        0.002430       0.000079       0.000149       0.000149   \n",
      "std         0.058787       0.008908       0.012197       0.012197   \n",
      "min         0.000000       0.000000       0.000000       0.000000   \n",
      "25%         0.000000       0.000000       0.000000       0.000000   \n",
      "50%         0.000000       0.000000       0.000000       0.000000   \n",
      "75%         0.000000       0.000000       0.000000       0.000000   \n",
      "max         3.000000       1.000000       1.000000       1.000000   \n",
      "\n",
      "       Freq_P2_Days  Freq_P3_Days   Freq_A1_Days   Freq_A2_Days  \n",
      "count      100815.0      100815.0  100815.000000  100815.000000  \n",
      "mean            0.0           0.0       0.003015       0.000188  \n",
      "std             0.0           0.0       0.056610       0.015103  \n",
      "min             0.0           0.0       0.000000       0.000000  \n",
      "25%             0.0           0.0       0.000000       0.000000  \n",
      "50%             0.0           0.0       0.000000       0.000000  \n",
      "75%             0.0           0.0       0.000000       0.000000  \n",
      "max             0.0           0.0       2.000000       2.000000  \n",
      "\n",
      "[8 rows x 21 columns]\n"
     ]
    }
   ],
   "source": [
    "print(absences.iloc[:,9:].describe())"
   ]
  },
  {
   "cell_type": "markdown",
   "id": "86cc6340-ab47-4481-8edd-e3abb87c8e89",
   "metadata": {},
   "source": [
    "Below there are some boxplots to see if there are extrem values for any of the absences categories."
   ]
  },
  {
   "cell_type": "code",
   "execution_count": 15,
   "id": "526e591c-baf8-4412-b628-de33592d0ea3",
   "metadata": {},
   "outputs": [
    {
     "data": {
      "image/png": "[encoded data removed]",
      "text/plain": [
       "<Figure size 640x480 with 1 Axes>"
      ]
     },
     "metadata": {},
     "output_type": "display_data"
    }
   ],
   "source": [
    "absences.iloc[:,9:29].boxplot()\n",
    "plt.subplots_adjust(bottom=0.25)\n",
    "plt.xticks(rotation=90)\n",
    "plt.show()\n",
    "#absences.iloc[:,9:29].boxplot(rotation=90)"
   ]
  },
  {
   "cell_type": "markdown",
   "id": "f009110e-8b92-4c0f-a821-c2d08b562812",
   "metadata": {},
   "source": [
    "The last two columns need to be transformed to see plots."
   ]
  },
  {
   "cell_type": "code",
   "execution_count": 21,
   "id": "3a1af247-d22a-4ca0-a922-1042f6d2ff96",
   "metadata": {},
   "outputs": [
    {
     "name": "stdout",
     "output_type": "stream",
     "text": [
      "                              FDCP Gross Salary Net Salary Gross Salary 108  \\\n",
      "count                       267166       267166     267166           267166   \n",
      "unique                       29553        75509     105519            50187   \n",
      "top     0000043838|00|1|0000001146            0          0                0   \n",
      "freq                           297       125229      65323           184366   \n",
      "\n",
      "            Period  \n",
      "count       267166  \n",
      "unique         315  \n",
      "top     31/01/2016  \n",
      "freq         12739  \n"
     ]
    }
   ],
   "source": [
    "print(salary_statement.describe())"
   ]
  },
  {
   "cell_type": "code",
   "execution_count": 25,
   "id": "617dc4eb-fb28-4afb-8b34-ccf69fc66303",
   "metadata": {},
   "outputs": [
    {
     "name": "stdout",
     "output_type": "stream",
     "text": [
      "                              FDCP  Valid From    Valid To  \\\n",
      "count                        52854       52854       52854   \n",
      "unique                       29451        2096        2096   \n",
      "top     0000048568|00|3|0000014549  01/01/1960  01/01/3000   \n",
      "freq                           211       29451       29451   \n",
      "\n",
      "       Working Days per Week NACE Code  \\\n",
      "count                  52854     52854   \n",
      "unique                   123        39   \n",
      "top                        5     78200   \n",
      "freq                   23216     22599   \n",
      "\n",
      "                                         NACE Description  \n",
      "count                                               39610  \n",
      "unique                                                 28  \n",
      "top     78200 - Activités des agences de travail tempo...  \n",
      "freq                                                22599  \n"
     ]
    }
   ],
   "source": [
    "print(work_plan.describe())"
   ]
  },
  {
   "cell_type": "markdown",
   "id": "bffb2de7-bb8b-498b-a340-d4912bb11ce7",
   "metadata": {},
   "source": [
    "**1.5. Comments**"
   ]
  },
  {
   "cell_type": "markdown",
   "id": "17590899-71f6-4c3d-8a04-c59966e5663c",
   "metadata": {},
   "source": [
    "**contract_basis data:**\n",
    "- Null Values:\n",
    "1. There is one person without Nationality and a birthday\n",
    "3. Five people registered a 'Contract Termination Reason' but not a 'Contract End Date'."
   ]
  },
  {
   "cell_type": "markdown",
   "id": "899f033f-fcc7-4150-ab03-a1c1cc567c57",
   "metadata": {},
   "source": [
    "**Work Plan data:**\n",
    "- Null Values\n",
    "1. The 'NACE Description' is missing for 13.224,00 subjects"
   ]
  },
  {
   "cell_type": "markdown",
   "id": "d7da4835-ee2c-4711-8a32-b4ac37548a7e",
   "metadata": {},
   "source": [
    "**Absences:**\n",
    "- Repeated Column\n",
    "1. One of the columns \"Date\" or \"Period\" will be removed as they are identical."
   ]
  },
  {
   "cell_type": "markdown",
   "id": "f710721c-ef41-4377-bae3-66dca584e547",
   "metadata": {},
   "source": [
    "**Salary Statement:**\n",
    "- Duplicates\n",
    "1. 29172 salary records are duplicated"
   ]
  },
  {
   "cell_type": "markdown",
   "id": "388bb59f-84a0-4ddd-8534-5d7c8e194f91",
   "metadata": {},
   "source": [
    "**General**\n",
    "\n",
    "1. Some Data types need to be set to object (Factors)\n",
    "2. Unique id variable needs to be created in the \"Absences\" and \"contract_basis\" datasets\n",
    "3. FDCP Values need to be transformed as they have extra \"0\" values that cause issues to merge the data."
   ]
  }
 ],
 "metadata": {
  "kernelspec": {
   "display_name": "Python 3 (ipykernel)",
   "language": "python",
   "name": "python3"
  },
  "language_info": {
   "codemirror_mode": {
    "name": "ipython",
    "version": 3
   },
   "file_extension": ".py",
   "mimetype": "text/x-python",
   "name": "python",
   "nbconvert_exporter": "python",
   "pygments_lexer": "ipython3",
   "version": "3.10.5"
  }
 },
 "nbformat": 4,
 "nbformat_minor": 5
}
